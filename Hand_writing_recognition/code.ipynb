{
  "nbformat": 4,
  "nbformat_minor": 0,
  "metadata": {
    "colab": {
      "name": "Hand_writing_recognition.ipynb",
      "provenance": [],
      "authorship_tag": "ABX9TyMh6Luk1/Z2Rv7ePayAX9va",
      "include_colab_link": true
    },
    "kernelspec": {
      "name": "python3",
      "display_name": "Python 3"
    }
  },
  "cells": [
    {
      "cell_type": "markdown",
      "metadata": {
        "id": "view-in-github",
        "colab_type": "text"
      },
      "source": [
        "<a href=\"https://colab.research.google.com/github/shobhit-saini/Neural_Network/blob/master/Hand_writing_recognition/code.ipynb\" target=\"_parent\"><img src=\"https://colab.research.google.com/assets/colab-badge.svg\" alt=\"Open In Colab\"/></a>"
      ]
    },
    {
      "cell_type": "code",
      "metadata": {
        "id": "qvrMZJe94mIA",
        "colab_type": "code",
        "outputId": "150e6ab7-2040-4865-87dc-894eabbcb0b6",
        "colab": {
          "base_uri": "https://localhost:8080/",
          "height": 51
        }
      },
      "source": [
        "import pickle\n",
        "import gzip\n",
        "import numpy as np\n",
        "import matplotlib.pyplot as plt\n",
        "import cv2\n",
        "\n",
        "f = gzip.open('mnist.pkl.gz', 'rb')\n",
        "training_data, validation_data, test_data = pickle.load(f, encoding = 'latin1')\n",
        "f.close()\n",
        "x = []\n",
        "for i in training_data[0]:\n",
        "  x.append(np.reshape(i, (1,784)))\n",
        "training_input = np.array(x)\n",
        "training_output = []\n",
        "for i in training_data[1]:\n",
        "  tmp = np.zeros((1, 10))\n",
        "  tmp[0][i] = 1.0\n",
        "  training_output.append(tmp)\n",
        "\n",
        "training_output = np.array(training_output)\n",
        "Input_size = 784\n",
        "Output_size = 10\n",
        "Hidden_neurons = 50\n",
        "learning_parameter = 0.8\n",
        "np.random.seed(1)\n",
        "def sigmoid(x):\n",
        "  return 1/(1+np.exp(-x))\n",
        "\n",
        "def sigmoid_prime(x):\n",
        "  return sigmoid(x)*(1 - sigmoid(x))\n",
        "weight1 = 2*np.random.uniform( size = ( Input_size, Hidden_neurons ) ) - 1#784*50\n",
        "weight2 = 2*np.random.uniform( size = ( Hidden_neurons, Output_size ) ) - 1#50*10\n",
        "\n",
        "loss = []\n",
        "iteration = []\n",
        "k = 0\n",
        "for i in range(50000):\n",
        "  a1 = training_input[i]#1*784\n",
        "  z2 = np.dot( a1, weight1 ) #1*784 ** 784*50 = 1*50\n",
        "  a2 = sigmoid(z2)#1*50\n",
        "  z3 = np.dot( a2, weight2 ) #1*50 ** 50*10 = 1*10\n",
        "  a3 = sigmoid( z3 ) #1*10\n",
        "\n",
        "  del_out = ( a3 - training_output[i] )*sigmoid_prime(z3) #(1*10 - 1*10)*1*10 = 1*10\n",
        "  err_out = np.dot(a2.T, del_out) #50*1 ** 1*10 = 50*10\n",
        "\n",
        "  del_hidden = np.dot(del_out, weight2.T)*sigmoid_prime(z2) #1*10**10*50 = 1*50*1*50 = 1*50\n",
        "  err_hidden = np.dot( a1.T, del_hidden) #784*1**1*50 = 784*50\n",
        "\n",
        "  weight2 -= learning_parameter*err_out\n",
        "  weight1 -= learning_parameter*err_hidden\n",
        "\n",
        "def test():\n",
        "  x = []\n",
        "  for i in test_data[0]:\n",
        "    x.append(np.reshape(i, (1,784)))\n",
        "  test_input = np.array(x)\n",
        "  test_output = []\n",
        "  for i in test_data[1]:\n",
        "    tmp = np.zeros((1, 10))\n",
        "    tmp[0][i] = 1.0\n",
        "    test_output.append(tmp)\n",
        "  test_output = np.array(test_output)\n",
        "  correct = 0\n",
        "\n",
        "  for i in range(len(test_input)):\n",
        "\n",
        "    a1 = test_input[i]#1*784\n",
        "    z2 = np.dot( a1, weight1 ) #1*784 ** 784*50 = 1*50\n",
        "    a2 = sigmoid(z2)#1*50\n",
        "    z3 = np.dot( a2, weight2 ) #1*50 ** 50*10 = 1*10\n",
        "    a3 = sigmoid( z3 ) #1*10\n",
        "    out = np.argmax(a3)\n",
        "    if out == test_data[1][i] :\n",
        "        correct += 1\n",
        "\n",
        "  print(\"Accuracy:\")\n",
        "  print((correct/10000)*100)\n",
        "  \n",
        "test()\n"
      ],
      "execution_count": 50,
      "outputs": [
        {
          "output_type": "stream",
          "text": [
            "Accuracy:\n",
            "92.82000000000001\n"
          ],
          "name": "stdout"
        }
      ]
    },
    {
      "cell_type": "code",
      "metadata": {
        "id": "u8TGCNBt4VqW",
        "colab_type": "code",
        "colab": {
          "base_uri": "https://localhost:8080/",
          "height": 85
        },
        "outputId": "7c221560-3b64-47c4-d600-7138577bc26a"
      },
      "source": [
        "'''I have taken one image, resize it then reshape it and normalize it's pixel value for testing '''\n",
        "import cv2\n",
        "image = cv2.imread('9.png')\n",
        "gray = cv2.cvtColor(image, cv2.COLOR_BGR2GRAY)\n",
        "resized = cv2.resize(gray, (28,28), interpolation = cv2.INTER_AREA)\n",
        "gray = np.array(np.reshape(resized, (1,784)))\n",
        "gray = abs(gray - 255)/255\n",
        "a1 = gray#1*784\n",
        "z2 = np.dot( a1, weight1 ) #1*784 ** 784*50 = 1*50\n",
        "a2 = sigmoid(z2)#1*50\n",
        "z3 = np.dot( a2, weight2 ) #1*50 ** 50*10 = 1*10\n",
        "a3 = sigmoid( z3 ) #1*10\n",
        "print(a3)\n",
        "out = np.argmax(a3)\n",
        "print(out)\n"
      ],
      "execution_count": 49,
      "outputs": [
        {
          "output_type": "stream",
          "text": [
            "[[7.81004980e-05 2.56255412e-06 3.82072013e-05 3.58622870e-04\n",
            "  1.40876709e-04 1.16652148e-06 1.03163792e-03 4.86468664e-05\n",
            "  1.20221352e-02 1.29504472e-01]]\n",
            "9\n"
          ],
          "name": "stdout"
        }
      ]
    }
  ]
}