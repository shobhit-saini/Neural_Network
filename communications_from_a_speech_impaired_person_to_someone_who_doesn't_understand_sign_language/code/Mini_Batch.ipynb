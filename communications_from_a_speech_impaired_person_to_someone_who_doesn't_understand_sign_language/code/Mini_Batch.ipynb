{
  "nbformat": 4,
  "nbformat_minor": 0,
  "metadata": {
    "colab": {
      "name": "Mini_Batch.ipynb",
      "provenance": [],
      "collapsed_sections": [],
      "authorship_tag": "ABX9TyNGNl8M2LOIWAs3ZTBGl/A/",
      "include_colab_link": true
    },
    "kernelspec": {
      "name": "python3",
      "display_name": "Python 3"
    }
  },
  "cells": [
    {
      "cell_type": "markdown",
      "metadata": {
        "id": "view-in-github",
        "colab_type": "text"
      },
      "source": [
        "<a href=\"https://colab.research.google.com/github/shobhit-saini/Neural_Network/blob/master/communications_from_a_speech_impaired_person_to_someone_who_doesn't_understand_sign_language/code/Mini_Batch.ipynb\" target=\"_parent\"><img src=\"https://colab.research.google.com/assets/colab-badge.svg\" alt=\"Open In Colab\"/></a>"
      ]
    },
    {
      "cell_type": "code",
      "metadata": {
        "id": "DsaCalbQOt-L",
        "colab_type": "code",
        "outputId": "2bc0a3be-688d-4845-87ca-e141485d8ec5",
        "colab": {
          "base_uri": "https://localhost:8080/",
          "height": 285
        }
      },
      "source": [
        "import numpy as np\n",
        "import h5py\n",
        "import math\n",
        "import matplotlib.pyplot as plt\n",
        "def load_dataset():\n",
        "    #Train Set Dataset\n",
        "    train_dataset = h5py.File('train_signs.h5', \"r\")\n",
        "    train_set_x_orig = np.array(train_dataset[\"train_set_x\"][:]) \n",
        "    train_set_y_orig = np.array(train_dataset[\"train_set_y\"][:]) \n",
        "\n",
        "    #Test set Dataset\n",
        "    test_dataset = h5py.File('test_signs.h5', \"r\")\n",
        "    test_set_x_orig = np.array(test_dataset[\"test_set_x\"][:]) \n",
        "    test_set_y_orig = np.array(test_dataset[\"test_set_y\"][:])\n",
        "\n",
        "    \n",
        "    train_set_y_orig = train_set_y_orig.reshape((1, train_set_y_orig.shape[0]))\n",
        "    test_set_y_orig = test_set_y_orig.reshape((1, test_set_y_orig.shape[0]))\n",
        "    \n",
        "    return train_set_x_orig, train_set_y_orig, test_set_x_orig, test_set_y_orig\n",
        "\n",
        "train_set_x_orig, train_set_y_orig, test_set_x_orig, test_set_y_orig = load_dataset()\n",
        "'''\n",
        "Dims:\n",
        "train_set_x_orig: (1080, 64, 64, 3)\n",
        "train_set_y_orig: (1, 1080)\n",
        "test_set_x_orig: (120, 64, 64, 3)\n",
        "test_set_y_orig: (1, 120)\n",
        "flatten_train_set_x: (12288, 1080)\n",
        "flatten_test_set_y: (12288, 120)\n",
        "training_output:(6, 1080)\n",
        "'''\n",
        "\n",
        "#Analyze the data\n",
        "\n",
        "plt.imshow(train_set_x_orig[30])\n",
        "print (\"y = \" + str(np.squeeze(train_set_y_orig[:, 30])))\n",
        "\n",
        "#Converting each dataset in column vector\n",
        "flatten_train_set_x = train_set_x_orig.reshape(train_set_x_orig.shape[0], -1).T\n",
        "flatten_test_set_x = test_set_x_orig.reshape(test_set_x_orig.shape[0], -1).T\n",
        "#One hot encoding\n",
        "training_output = []\n",
        "for i in train_set_y_orig[:][0]:\n",
        "  tmp = np.zeros(6)\n",
        "  tmp[i] = 1.0\n",
        "  training_output.append(tmp)\n",
        "training_output = np.array(training_output)\n",
        "training_output = training_output.T\n",
        "\n",
        "#Normalize the dataset\n",
        "flatten_train_set_x = (flatten_train_set_x - flatten_train_set_x.mean(axis = 0))/flatten_train_set_x.std(0)\n",
        "flatten_test_set_x = (flatten_test_set_x - flatten_test_set_x.mean(axis = 0))/flatten_test_set_x.std(0)"
      ],
      "execution_count": 0,
      "outputs": [
        {
          "output_type": "stream",
          "text": [
            "y = 4\n"
          ],
          "name": "stdout"
        },
        {
          "output_type": "display_data",
          "data": {
            "image/png": "[encoded data removed]",
            "text/plain": [
              "<Figure size 432x288 with 1 Axes>"
            ]
          },
          "metadata": {
            "tags": [],
            "needs_background": "light"
          }
        }
      ]
    },
    {
      "cell_type": "code",
      "metadata": {
        "id": "cjynhzh5PJOm",
        "colab_type": "code",
        "outputId": "05b0b1df-d51e-43d0-b333-d2cd767c4499",
        "colab": {
          "base_uri": "https://localhost:8080/",
          "height": 295
        }
      },
      "source": [
        "def softmax(x):\n",
        "    return np.exp(x) / np.sum(np.exp(x), axis=0)\n",
        "def relu(x):\n",
        "  return np.maximum(0,x)\n",
        "def relu_prime(x):\n",
        "  return np.where(x > 0, 1.0, 0.0)\n",
        "#Define features of each layer\n",
        "Input_layer_features = flatten_train_set_x.shape[0]\n",
        "First_hidden_layer_features = 100\n",
        "Second_hidden_layer_features = 50\n",
        "Output_features = 6\n",
        "m = flatten_train_set_x.shape[1]\n",
        "\n",
        "#Define Hyperparaameters\n",
        "learning_rate = 0.0075\n",
        "minibatch_size = 64\n",
        "#Define parameters\n",
        "W1 = np.random.randn(First_hidden_layer_features, Input_layer_features)*np.sqrt(2/(Input_layer_features)) #(100, 12288)\n",
        "W2 = np.random.randn(Second_hidden_layer_features, First_hidden_layer_features)*np.sqrt(2/First_hidden_layer_features)#(50, 100)\n",
        "W3 = np.random.randn(Output_features, Second_hidden_layer_features)*np.sqrt(1/Second_hidden_layer_features)#(6, 50)\n",
        "b1 = np.zeros((First_hidden_layer_features, 1))#(100, 1)\n",
        "b2 = np.zeros((Second_hidden_layer_features, 1))#(50, 1)\n",
        "b3 = np.zeros((Output_features, 1))#(6, 1)\n",
        "\n",
        "# Step 1: Shuffle (X, Y)\n",
        "permutation = list(np.random.permutation(m))\n",
        "shuffled_X = flatten_train_set_x[:, permutation]\n",
        "shuffled_Y = training_output[:, permutation]\n",
        "\n",
        "mini_batches = []\n",
        "Number_of_complete_minibatch = math.floor(m/minibatch_size)\n",
        "\n",
        "for i in range(Number_of_complete_minibatch):\n",
        "  mini_batch_X = shuffled_X[:, i*minibatch_size: (i+1)*minibatch_size]\n",
        "  mini_batch_Y = shuffled_Y[:, i*minibatch_size : (i+1)*minibatch_size]\n",
        "  mini_batch = (mini_batch_X, mini_batch_Y)\n",
        "  mini_batches.append(mini_batch)\n",
        "\n",
        "flag = 0\n",
        "if m % minibatch_size != 0:\n",
        "  flag = 1\n",
        "  mini_batch_X = shuffled_X[:, i*minibatch_size : (i*minibatch_size + (m-(minibatch_size*math.floor(m/minibatch_size))))] \n",
        "  mini_batch_Y = shuffled_Y[:, i*minibatch_size : (i*minibatch_size + (m-(minibatch_size*math.floor(m/minibatch_size))))]\n",
        "  mini_batch = (mini_batch_X, mini_batch_Y)\n",
        "  mini_batches.append(mini_batch)  \n",
        "\n",
        "if flag == 1:\n",
        "  total_mini_batch = Number_of_complete_minibatch + 1\n",
        "else:\n",
        "  total_mini_batch = Number_of_complete_minibatch\n",
        "costlist = []\n",
        "iteration = []\n",
        "for i in range(5000):\n",
        "  loss = 0\n",
        "  for j in range(total_mini_batch):\n",
        "    X = mini_batches[j][0]\n",
        "    Y = mini_batches[j][1]\n",
        "    Z1 = np.dot(W1, X) + b1 \n",
        "    A1 = relu(Z1)\n",
        "    Z2 = np.dot(W2, A1) + b2 \n",
        "    A2 = relu(Z2)\n",
        "    Z3 = np.dot(W3, A2) + b3 \n",
        "    A3 = softmax(Z3)\n",
        "    '''__________________________Loss_Calculation_________________________________'''\n",
        "    loss += -np.sum(np.multiply(Y, np.log(A3)) + np.multiply((1-Y), np.log(1-A3)))\n",
        "    '''_________________________Back_Propagation__________________________________'''\n",
        "    dZ3 = A3-Y\n",
        "    assert( dZ3.shape == Z3.shape )\n",
        "    dW3 = np.dot(dZ3, A2.T)/minibatch_size\n",
        "    assert( dW3.shape == W3.shape )\n",
        "    db3 = np.sum(dZ3, axis = 1, keepdims= True)/minibatch_size\n",
        "    assert( db3.shape == b3.shape )\n",
        "    dA2 = np.dot(W3.T, dZ3)\n",
        "    assert( dA2.shape == A2.shape )\n",
        "    dZ2 = np.multiply(dA2, relu_prime(Z2))\n",
        "    assert(dZ2.shape == Z2.shape)\n",
        "    dW2 = np.dot(dZ2, A1.T)/minibatch_size\n",
        "    assert(dW2.shape == W2.shape)\n",
        "    db2 = np.sum(dZ2, axis = 1, keepdims= True)/minibatch_size\n",
        "    assert( db2.shape == b2.shape )\n",
        "    dA1 = np.dot(W2.T, dZ2)\n",
        "    assert(dA1.shape == A1.shape)\n",
        "    dZ1 = np.multiply(dA1, relu_prime(Z1))\n",
        "    assert(dZ1.shape == Z1.shape)\n",
        "    dW1 = np.dot(dZ1, X.T)/minibatch_size\n",
        "    assert(dW1.shape == W1.shape)\n",
        "    db1 = np.sum(dZ1, axis = 1, keepdims= True)/minibatch_size\n",
        "    assert(db1.shape == b1.shape)\n",
        "\n",
        "    '''__________________________Update_Parameters________________________________'''\n",
        "    W1 -= learning_rate*dW1\n",
        "    W2 -= learning_rate*dW2\n",
        "    W3 -= learning_rate*dW3\n",
        "    b1 -= learning_rate*db1\n",
        "    b2 -= learning_rate*db2\n",
        "    b3 -= learning_rate*db3\n",
        "  cost = loss/m\n",
        "  if i %100 == 0:\n",
        "    costlist.append(cost)\n",
        "    iteration.append(i)\n",
        "\n",
        "plt.plot(iteration, costlist)\n",
        "plt.xlabel(\"Per 100th iteration\")\n",
        "plt.ylabel(\"costlist\")\n",
        "plt.title(learning_rate)\n",
        "plt.show()\n"
      ],
      "execution_count": 0,
      "outputs": [
        {
          "output_type": "display_data",
          "data": {
            "image/png": "[encoded data removed]",
            "text/plain": [
              "<Figure size 432x288 with 1 Axes>"
            ]
          },
          "metadata": {
            "tags": [],
            "needs_background": "light"
          }
        }
      ]
    },
    {
      "cell_type": "code",
      "metadata": {
        "id": "-L3VvBZQT1va",
        "colab_type": "code",
        "outputId": "704605c4-32d3-4be8-d00f-ee9882806030",
        "colab": {
          "base_uri": "https://localhost:8080/",
          "height": 54
        }
      },
      "source": [
        "print(costlist)"
      ],
      "execution_count": 0,
      "outputs": [
        {
          "output_type": "stream",
          "text": [
            "[2.4569943360328717, 0.012037313026099658, 0.004790386377148398, 0.0028652845703863805, 0.0020050250630371212, 0.0015251850563473342, 0.0012216839810225341, 0.001013654089850592, 0.0008631319868550901, 0.0007495596215292743, 0.0006608865251743148, 0.0005900024989237058, 0.0005321335040220493, 0.00048401386448248016, 0.0004433486335987665, 0.0004086285490425799, 0.00037867266410135386, 0.00035257658494128465, 0.0003296552187960044, 0.0003093406557232763, 0.000291259108298873, 0.00027508464229933713, 0.0002605087094660417, 0.0002473155098758817, 0.00023532534585579668, 0.00022438147713008496, 0.0002143596104955101, 0.00020514346515406124, 0.00019664790090973382, 0.0001887848654476172, 0.00018149248726925696, 0.00017470848154776145, 0.00016838186596131624, 0.00016247566802353312, 0.00015694599414465922, 0.0001517613380634497, 0.00014689080976938812, 0.00014230447354673657, 0.00013798328085877474, 0.00013390309830410655, 0.00013004588010724288, 0.00012639026632480947, 0.00012292436005991144, 0.00011963448487507337, 0.00011650640813885969, 0.00011352862063995423, 0.0001106919664245113, 0.00010798408644241578, 0.00010539552494368095, 0.0001029214093211593]\n"
          ],
          "name": "stdout"
        }
      ]
    },
    {
      "cell_type": "code",
      "metadata": {
        "id": "QjKPyrx3fVlR",
        "colab_type": "code",
        "outputId": "563e0e2d-27dd-4a3d-afad-f4423af03de6",
        "colab": {
          "base_uri": "https://localhost:8080/",
          "height": 85
        }
      },
      "source": [
        "def training_set_accuracy():\n",
        "  Z1 = np.dot(W1, flatten_train_set_x) + b1 \n",
        "  A1 = relu(Z1)\n",
        "  Z2 = np.dot(W2, A1) + b2 \n",
        "  A2 = relu(Z2)\n",
        "  Z3 = np.dot(W3, A2) + b3\n",
        "  A3 = softmax(Z3)\n",
        "  out = np.argmax(A3,axis = 0)\n",
        "  count = 0\n",
        "  for i in range(1080):\n",
        "    if out[i] == train_set_y_orig[0][i]:\n",
        "      count = count + 1;\n",
        "  print( \"Number of training example correctly identified out of 1080:\",count )\n",
        "  accuracy = 100 - ((1080 - count)/m)*100 \n",
        "  print( \"Training Accuracy:\", accuracy )\n",
        "def test():\n",
        "  Z1 = np.dot(W1, flatten_test_set_x) + b1 #(100, 1080) one column signifies value of Z1 due to one training example\n",
        "  A1 = relu(Z1)\n",
        "  Z2 = np.dot(W2, A1) + b2 #(50, 1080) \n",
        "  A2 = relu(Z2)\n",
        "  Z3 = np.dot(W3, A2) + b3 #(6, 1080)\n",
        "  A3 = softmax(Z3)\n",
        "  out = np.argmax(A3,axis = 0)\n",
        "  count = 0\n",
        "  for i in range(120):\n",
        "    if out[i] == test_set_y_orig[0][i]:\n",
        "      count = count + 1;\n",
        "  print(\"Number of test examples correctly identified out of 120:\", count)\n",
        "  accuracy = 100 - ((120 - count)/120)*100 \n",
        "  print( \"Test Accuracy:\", accuracy )\n",
        "training_set_accuracy()\n",
        "test()"
      ],
      "execution_count": 0,
      "outputs": [
        {
          "output_type": "stream",
          "text": [
            "Number of training example correctly identified out of 1080: 1078\n",
            "Training Accuracy: 99.81481481481481\n",
            "Number of test examples correctly identified out of 120: 112\n",
            "Test Accuracy: 93.33333333333333\n"
          ],
          "name": "stdout"
        }
      ]
    }
  ]
}