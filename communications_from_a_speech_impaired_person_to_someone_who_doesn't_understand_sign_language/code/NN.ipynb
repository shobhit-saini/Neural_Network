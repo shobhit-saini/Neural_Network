{
  "nbformat": 4,
  "nbformat_minor": 0,
  "metadata": {
    "colab": {
      "name": "code.ipynb",
      "provenance": [],
      "authorship_tag": "ABX9TyO3GJzb8qmVwbJfu7nvHMZx",
      "include_colab_link": true
    },
    "kernelspec": {
      "name": "python3",
      "display_name": "Python 3"
    }
  },
  "cells": [
    {
      "cell_type": "markdown",
      "metadata": {
        "id": "view-in-github",
        "colab_type": "text"
      },
      "source": [
        "<a href=\"https://colab.research.google.com/github/shobhit-saini/Neural_Network/blob/master/communications_from_a_speech_impaired_person_to_someone_who_doesn't_understand_sign_language/code/NN.ipynb\" target=\"_parent\"><img src=\"https://colab.research.google.com/assets/colab-badge.svg\" alt=\"Open In Colab\"/></a>"
      ]
    },
    {
      "cell_type": "code",
      "metadata": {
        "id": "iEFAUmm6LdgD",
        "colab_type": "code",
        "outputId": "2dbec0ad-2133-4ca1-ecd8-f876cc058cfe",
        "colab": {
          "base_uri": "https://localhost:8080/",
          "height": 285
        }
      },
      "source": [
        "import numpy as np\n",
        "import h5py\n",
        "import matplotlib.pyplot as plt\n",
        "def load_dataset():\n",
        "    #Train Set Dataset\n",
        "    train_dataset = h5py.File('train_signs.h5', \"r\")\n",
        "    train_set_x_orig = np.array(train_dataset[\"train_set_x\"][:]) \n",
        "    train_set_y_orig = np.array(train_dataset[\"train_set_y\"][:]) \n",
        "\n",
        "    #Test set Dataset\n",
        "    test_dataset = h5py.File('test_signs.h5', \"r\")\n",
        "    test_set_x_orig = np.array(test_dataset[\"test_set_x\"][:]) \n",
        "    test_set_y_orig = np.array(test_dataset[\"test_set_y\"][:])\n",
        "\n",
        "    \n",
        "    train_set_y_orig = train_set_y_orig.reshape((1, train_set_y_orig.shape[0]))\n",
        "    test_set_y_orig = test_set_y_orig.reshape((1, test_set_y_orig.shape[0]))\n",
        "    \n",
        "    return train_set_x_orig, train_set_y_orig, test_set_x_orig, test_set_y_orig\n",
        "\n",
        "train_set_x_orig, train_set_y_orig, test_set_x_orig, test_set_y_orig = load_dataset()\n",
        "'''\n",
        "Dims:\n",
        "train_set_x_orig: (1080, 64, 64, 3)\n",
        "train_set_y_orig: (1, 1080)\n",
        "test_set_x_orig: (120, 64, 64, 3)\n",
        "test_set_y_orig: (1, 120)\n",
        "flatten_train_set_x: (12288, 1080)\n",
        "flatten_test_set_y: (12288, 120)\n",
        "training_output:(6, 1080)\n",
        "'''\n",
        "\n",
        "#Analyze the data\n",
        "\n",
        "plt.imshow(train_set_x_orig[30])\n",
        "print (\"y = \" + str(np.squeeze(train_set_y_orig[:, 30])))\n",
        "\n",
        "#Converting each dataset in column vector\n",
        "flatten_train_set_x = train_set_x_orig.reshape(train_set_x_orig.shape[0], -1).T\n",
        "flatten_test_set_x = test_set_x_orig.reshape(test_set_x_orig.shape[0], -1).T\n",
        "#One hot encoding\n",
        "training_output = []\n",
        "for i in train_set_y_orig[:][0]:\n",
        "  tmp = np.zeros(6)\n",
        "  tmp[i] = 1.0\n",
        "  training_output.append(tmp)\n",
        "training_output = np.array(training_output)\n",
        "training_output = training_output.T\n",
        "\n",
        "#Normalize the dataset\n",
        "flatten_train_set_x = (flatten_train_set_x - flatten_train_set_x.mean(axis = 0))/flatten_train_set_x.std(0)\n",
        "flatten_test_set_x = (flatten_test_set_x - flatten_test_set_x.mean(axis = 0))/flatten_test_set_x.std(0)"
      ],
      "execution_count": 2,
      "outputs": [
        {
          "output_type": "stream",
          "text": [
            "y = 4\n"
          ],
          "name": "stdout"
        },
        {
          "output_type": "display_data",
          "data": {
            "image/png": "[encoded data removed]",
            "text/plain": [
              "<Figure size 432x288 with 1 Axes>"
            ]
          },
          "metadata": {
            "tags": [],
            "needs_background": "light"
          }
        }
      ]
    },
    {
      "cell_type": "code",
      "metadata": {
        "id": "5xKKscIueBFA",
        "colab_type": "code",
        "colab": {
          "base_uri": "https://localhost:8080/",
          "height": 295
        },
        "outputId": "05cfbbf4-b954-4902-cd23-f3bb2468b309"
      },
      "source": [
        "def softmax(x):\n",
        "    return np.exp(x) / np.sum(np.exp(x), axis=0)\n",
        "def relu(x):\n",
        "  return np.maximum(0,x)\n",
        "def relu_prime(x):\n",
        "  return np.where(x > 0, 1.0, 0.0)\n",
        "#Define features of each layer\n",
        "Input_layer_features = flatten_train_set_x.shape[0]\n",
        "First_hidden_layer_features = 100\n",
        "Second_hidden_layer_features = 50\n",
        "Output_features = 6\n",
        "m = flatten_train_set_x.shape[1]\n",
        "\n",
        "#Define Hyperparaameters\n",
        "learning_rate = 0.0075\n",
        "#Define parameters\n",
        "W1 = np.random.randn(First_hidden_layer_features, Input_layer_features)*np.sqrt(2/(Input_layer_features)) #(100, 12288)\n",
        "W2 = np.random.randn(Second_hidden_layer_features, First_hidden_layer_features)*np.sqrt(2/First_hidden_layer_features)#(50, 100)\n",
        "W3 = np.random.randn(Output_features, Second_hidden_layer_features)*np.sqrt(1/Second_hidden_layer_features)#(6, 50)\n",
        "b1 = np.zeros((First_hidden_layer_features, 1))#(100, 1)\n",
        "b2 = np.zeros((Second_hidden_layer_features, 1))#(50, 1)\n",
        "b3 = np.zeros((Output_features, 1))#(6, 1)\n",
        "\n",
        "costlist = []\n",
        "iteration = []\n",
        "for i in range(6000):\n",
        "  Z1 = np.dot(W1, flatten_train_set_x) + b1 #(100, 1080) one column signifies value of Z1 due to one training example\n",
        "  A1 = relu(Z1)\n",
        "  Z2 = np.dot(W2, A1) + b2#(50, 1080) \n",
        "  A2 = relu(Z2)\n",
        "  Z3 = np.dot(W3, A2) + b3 #(6, 1080)\n",
        "  A3 = softmax(Z3)\n",
        "  '''__________________________Loss_Calculation_________________________________'''\n",
        "  loss = 0\n",
        "  if i%100 == 0:\n",
        "    loss = -np.sum(np.multiply(training_output, np.log(A3)) + np.multiply((1-training_output), np.log(1-A3)))/m\n",
        "    costlist.append((loss/m))\n",
        "    iteration.append(i)\n",
        "  '''_________________________Back_Propagation__________________________________'''\n",
        "  dZ3 = A3-training_output\n",
        "  assert( dZ3.shape == Z3.shape )\n",
        "  dW3 = np.dot(dZ3, A2.T)/m\n",
        "  assert( dW3.shape == W3.shape )\n",
        "  db3 = np.sum(dZ3, axis = 1, keepdims= True)/m\n",
        "  assert( db3.shape == b3.shape )\n",
        "  dA2 = np.dot(W3.T, dZ3)#(50,6)*(6, 1080) = (50, 1080)\n",
        "  assert( dA2.shape == A2.shape )\n",
        "  dZ2 = np.multiply(dA2, relu_prime(Z2))\n",
        "  assert(dZ2.shape == Z2.shape)\n",
        "  dW2 = np.dot(dZ2, A1.T)/m\n",
        "  assert(dW2.shape == W2.shape)\n",
        "  db2 = np.sum(dZ2, axis = 1, keepdims= True)/m\n",
        "  assert( db2.shape == b2.shape )\n",
        "  dA1 = np.dot(W2.T, dZ2)\n",
        "  assert(dA1.shape == A1.shape)\n",
        "  dZ1 = np.multiply(dA1, relu_prime(Z1))\n",
        "  assert(dZ1.shape == Z1.shape)\n",
        "  dW1 = np.dot(dZ1, flatten_train_set_x.T)/m\n",
        "  assert(dW1.shape == W1.shape)\n",
        "  db1 = np.sum(dZ1, axis = 1, keepdims= True)/m\n",
        "  assert(db1.shape == b1.shape)\n",
        "\n",
        "  '''__________________________Update_Parameters________________________________'''\n",
        "  W1 -= learning_rate*dW1\n",
        "  W2 -= learning_rate*dW2\n",
        "  W3 -= learning_rate*dW3\n",
        "  b1 -= learning_rate*db1\n",
        "  b2 -= learning_rate*db2\n",
        "  b3 -= learning_rate*db3\n",
        "\n",
        "plt.plot(iteration, costlist)\n",
        "plt.xlabel(\"Per 100th iteration\")\n",
        "plt.ylabel(\"costlist\")\n",
        "plt.title(learning_rate)\n",
        "plt.show()\n"
      ],
      "execution_count": 8,
      "outputs": [
        {
          "output_type": "display_data",
          "data": {
            "image/png": "[encoded data removed]",
            "text/plain": [
              "<Figure size 432x288 with 1 Axes>"
            ]
          },
          "metadata": {
            "tags": [],
            "needs_background": "light"
          }
        }
      ]
    },
    {
      "cell_type": "code",
      "metadata": {
        "id": "C31dOST_QCIm",
        "colab_type": "code",
        "outputId": "02b99e5f-de8c-414a-f239-dfe3b5f5b608",
        "colab": {
          "base_uri": "https://localhost:8080/",
          "height": 85
        }
      },
      "source": [
        "def training_set_accuracy():\n",
        "  Z1 = np.dot(W1, flatten_train_set_x) + b1 #(100, 1080) one column signifies value of Z1 due to one training example\n",
        "  A1 = relu(Z1)\n",
        "  Z2 = np.dot(W2, A1) + b2 #(50, 1080) \n",
        "  A2 = relu(Z2)\n",
        "  Z3 = np.dot(W3, A2) + b3 #(6, 1080)\n",
        "  A3 = softmax(np.array(Z3,dtype=np.float128))\n",
        "  out = np.argmax(A3,axis = 0)\n",
        "  count = 0\n",
        "  for i in range(1080):\n",
        "    if out[i] == train_set_y_orig[0][i]:\n",
        "      count = count + 1;\n",
        "  print( \"Number of training example correctly identified out of 1080:\",count )\n",
        "  accuracy = 100 - ((1080 - count)/m)*100 \n",
        "  print( \"Training Accuracy:\", accuracy )\n",
        "def test():\n",
        "  Z1 = np.dot(W1, flatten_test_set_x) + b1 #(100, 1080) one column signifies value of Z1 due to one training example\n",
        "  A1 = relu(Z1)\n",
        "  Z2 = np.dot(W2, A1) + b2 #(50, 1080) \n",
        "  A2 = relu(Z2)\n",
        "  Z3 = np.dot(W3, A2) + b3 #(6, 1080)\n",
        "  A3 = softmax(np.array(Z3,dtype=np.float128))\n",
        "  out = np.argmax(A3,axis = 0)\n",
        "  count = 0\n",
        "  for i in range(120):\n",
        "    if out[i] == test_set_y_orig[0][i]:\n",
        "      count = count + 1;\n",
        "  print(\"Number of test examples correctly identified out of 120:\", count)\n",
        "  accuracy = 100 - ((120 - count)/120)*100 \n",
        "  print( \"Test Accuracy:\", accuracy )\n",
        "training_set_accuracy()\n",
        "test()\n"
      ],
      "execution_count": 12,
      "outputs": [
        {
          "output_type": "stream",
          "text": [
            "Number of training example correctly identified out of 1080: 1080\n",
            "Training Accuracy: 100.0\n",
            "Number of test examples correctly identified out of 120: 114\n",
            "Test Accuracy: 95.0\n"
          ],
          "name": "stdout"
        }
      ]
    }
  ]
}