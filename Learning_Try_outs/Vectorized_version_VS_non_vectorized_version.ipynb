{
  "nbformat": 4,
  "nbformat_minor": 0,
  "metadata": {
    "colab": {
      "name": "Vectorized_version_VS_non_vectorized_version.ipynb",
      "provenance": [],
      "authorship_tag": "ABX9TyOzsXSFDbyezyKOvhPbl07s",
      "include_colab_link": true
    },
    "kernelspec": {
      "name": "python3",
      "display_name": "Python 3"
    }
  },
  "cells": [
    {
      "cell_type": "markdown",
      "metadata": {
        "id": "view-in-github",
        "colab_type": "text"
      },
      "source": [
        "<a href=\"https://colab.research.google.com/github/shobhit-saini/Neural_Network/blob/master/Learning_Try_outs/Vectorized_version_VS_non_vectorized_version.ipynb\" target=\"_parent\"><img src=\"https://colab.research.google.com/assets/colab-badge.svg\" alt=\"Open In Colab\"/></a>"
      ]
    },
    {
      "cell_type": "code",
      "metadata": {
        "id": "W2hoUDu0H17e",
        "colab_type": "code",
        "outputId": "c22fc786-5784-441d-89b3-f681b0704a01",
        "colab": {
          "base_uri": "https://localhost:8080/",
          "height": 85
        }
      },
      "source": [
        "import time\n",
        "import numpy as np\n",
        "\n",
        "a = np.random.rand(1000000)\n",
        "b = np.random.rand(1000000)\n",
        "tic = time.time()\n",
        "pro = np.dot(a,b)\n",
        "toc = time.time()\n",
        "t1 = str(1000*(toc-tic))\n",
        "print(\"Vectorized Version\"+ t1 +\"ms\")\n",
        "\n",
        "pro = 0\n",
        "tic = time.time()\n",
        "for i in range(1000000):\n",
        "  pro += a[i]*b[i]\n",
        "toc = time.time()\n",
        "t2 = str(1000*(toc-tic))\n",
        "print(\"For loop Version\"+ t2+\"ms\")\n",
        "change = (float(t2)/float(t1))\n",
        "print(\"Vectorized version is \" + str(change) + \"times faster than for loop\")\n",
        "print(\"Speedup = \"+ str(change))"
      ],
      "execution_count": 2,
      "outputs": [
        {
          "output_type": "stream",
          "text": [
            "Vectorized Version1.1768341064453125ms\n",
            "For loop Version632.0364475250244ms\n",
            "Vectorized version is 537.0650324149109times faster than for loop\n",
            "Speedup = 537.0650324149109\n"
          ],
          "name": "stdout"
        }
      ]
    }
  ]
}