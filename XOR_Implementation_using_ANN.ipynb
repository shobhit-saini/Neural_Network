{
  "nbformat": 4,
  "nbformat_minor": 0,
  "metadata": {
    "colab": {
      "name": "XOR_Implementation_using_ANN.ipynb",
      "provenance": [],
      "authorship_tag": "ABX9TyML3kUrAmxuJRS5nxd0kwDo",
      "include_colab_link": true
    },
    "kernelspec": {
      "name": "python3",
      "display_name": "Python 3"
    }
  },
  "cells": [
    {
      "cell_type": "markdown",
      "metadata": {
        "id": "view-in-github",
        "colab_type": "text"
      },
      "source": [
        "<a href=\"https://colab.research.google.com/github/shobhit-saini/Neural_Network/blob/master/XOR_Implementation_using_ANN.ipynb\" target=\"_parent\"><img src=\"https://colab.research.google.com/assets/colab-badge.svg\" alt=\"Open In Colab\"/></a>"
      ]
    },
    {
      "cell_type": "code",
      "metadata": {
        "id": "7fsIIa_MeyCm",
        "colab_type": "code",
        "outputId": "d9958ddb-7a2f-43a3-8a79-785dd0f1be00",
        "colab": {
          "base_uri": "https://localhost:8080/",
          "height": 350
        }
      },
      "source": [
        "\"\"\"\n",
        "Implement EX-OR operation using Artificial Neural Network and calculate the loss after generating the model. The dataset to be considered is as follows:\n",
        "X = [[0, 0], [0, 1], [1, 0], [1, 1]]\n",
        "Y = [0, 1, 1, 0]\n",
        "The implementation should not have any inbuilt libraries or any previous implementations. Evaluate the loss v/s iteration curve.\n",
        "\n",
        "\"\"\"\n",
        "import numpy as np\n",
        "import matplotlib.pyplot as plt\n",
        "\n",
        "x = np.array([[0,0],[0,1],[1,0],[1,1]]) # 4*2\n",
        "y = np.array([[0],[1],[1],[0]]) #1*4\n",
        "\n",
        "def sigmoid(x):\n",
        "  return 1/(1+np.exp(-x))\n",
        "\n",
        "def sigmoid_prime(x):\n",
        "  return sigmoid(x)*(1-sigmoid(x))\n",
        "\n",
        "Input_Size = 2\n",
        "Output_Size = 1\n",
        "Neurons = 4\n",
        "Learning_rate = 0.1\n",
        "\n",
        "weight1 = np.random.uniform(size = (Input_Size, Neurons))  # Dimension: 2*4\n",
        "weight2 = np.random.uniform(size = (Neurons, Output_Size)) # 4*1\n",
        "\n",
        "loss = []\n",
        "iteration = []\n",
        "for i in range(10000):\n",
        "  tmp = np.dot(x, weight1) #4*2 ** 2*4 = 4*4   \n",
        "  res1 = sigmoid(tmp) # 4*4  1*4\n",
        "  out = np.dot(res1, weight2) # 4*4 ** 4*1 = 4*1 \n",
        "\n",
        "  del_out = (out - y) #4*1 \n",
        "  val = 0 \n",
        "  for j in range(4):\n",
        "    val += (y[j]-out[j])*(y[j]-out[j])\n",
        "  val = val/(2*4);\n",
        "  loss.append( val )\n",
        "  iteration.append(i);\n",
        "  err = Learning_rate*np.dot(res1.T, del_out) # 4*4 ** 4*1 = 4*1\n",
        "  del_hid = np.dot(del_out, weight2.T) * sigmoid_prime(tmp)\n",
        "  err1 = np.dot(x.T, del_hid)\n",
        "  weight2 -= err\n",
        "  weight1 -= Learning_rate*err1  \n",
        "  #print(out)\n",
        "\n",
        "def model():\n",
        "  tmp = np.dot(x, weight1) #4*2 ** 2*4 = 4*4   \n",
        "  res1 = sigmoid(tmp) # 4*4  1*4\n",
        "  out = np.dot(res1, weight2) # 4*4 ** 4*1 = 4*1 \n",
        "  for i in range(4):\n",
        "    if out[i][0] < 0.5:\n",
        "      out[i][0] = 0\n",
        "    else:\n",
        "      out[i][0] = 1\n",
        "  print(out)\n",
        "\n",
        "model()\n",
        "print( \"Iteration vs Loss Graph\" )\n",
        "plt.plot( iteration, loss )\n",
        "plt.show()\n",
        "\n"
      ],
      "execution_count": 0,
      "outputs": [
        {
          "output_type": "stream",
          "text": [
            "[[0.]\n",
            " [1.]\n",
            " [1.]\n",
            " [0.]]\n",
            "Iteration vs Loss Graph\n"
          ],
          "name": "stdout"
        },
        {
          "output_type": "display_data",
          "data": {
            "image/png": "[encoded data removed]",
            "text/plain": [
              "<Figure size 432x288 with 1 Axes>"
            ]
          },
          "metadata": {
            "tags": [],
            "needs_background": "light"
          }
        }
      ]
    }
  ]
}