{
  "nbformat": 4,
  "nbformat_minor": 0,
  "metadata": {
    "colab": {
      "name": "For_Loop_Based_And_Implementation.ipynb",
      "provenance": [],
      "authorship_tag": "ABX9TyOicn9GrYRnna33JDv1WhDk",
      "include_colab_link": true
    },
    "kernelspec": {
      "name": "python3",
      "display_name": "Python 3"
    }
  },
  "cells": [
    {
      "cell_type": "markdown",
      "metadata": {
        "id": "view-in-github",
        "colab_type": "text"
      },
      "source": [
        "<a href=\"https://colab.research.google.com/github/shobhit-saini/Neural_Network/blob/master/AND_Function/For_Loop_Based_And_Implementation.ipynb\" target=\"_parent\"><img src=\"https://colab.research.google.com/assets/colab-badge.svg\" alt=\"Open In Colab\"/></a>"
      ]
    },
    {
      "cell_type": "code",
      "metadata": {
        "id": "2FvdDOh0W1ZT",
        "colab_type": "code",
        "colab": {
          "base_uri": "https://localhost:8080/",
          "height": 299
        },
        "outputId": "d988f2c5-7ccd-468d-cbc9-b446248e3ec0"
      },
      "source": [
        "import numpy as np\n",
        "import random\n",
        "import matplotlib.pyplot as plt\n",
        "import time\n",
        "\n",
        "#Input & output\n",
        "x = np.array([[0,0],[0,1],[1,0],[1,1]]) \n",
        "y = np.array([[0],[0],[0],[1]]) \n",
        "\n",
        "#Activation function\n",
        "def sigmoid(x):\n",
        "  return 1/(1+np.exp(-x))\n",
        "\n",
        "random.seed(30)\n",
        "w1 = random.randint(0,1)\n",
        "w2 = random.randint(0,1)\n",
        "b = random.randint(0,1)\n",
        "learning_rate = 0.1\n",
        "\n",
        "cost = []\n",
        "iteration = []\n",
        "tic = time.time()\n",
        "for j in range(10000):\n",
        "  dw1 = 0 \n",
        "  dw2 = 0\n",
        "  db = 0\n",
        "  loss = 0\n",
        "  for i in range(4):\n",
        "    z = x[i][0]*w1 + x[i][1]*w2 + b\n",
        "    a = sigmoid(z)\n",
        "    loss += -(y[i]*np.log(a) + (1-y[i])*np.log(1-a))\n",
        "    dz = a - y[i][0]\n",
        "    dw1 += x[i][0]*dz\n",
        "    dw2 += x[i][1]*dz\n",
        "    db += dz\n",
        "  cost.append(loss)\n",
        "  iteration.append(j)\n",
        "  dw1 /= 10\n",
        "  dw2 /= 10\n",
        "  db /= 10\n",
        "  w1 = w1 - learning_rate*dw1\n",
        "  w2 = w2 - learning_rate*dw2\n",
        "  b = b - learning_rate*db\n",
        "toc = time.time()\n",
        "t2 = str(1000*(toc-tic))\n",
        "print(\"For loop Version take \"+ t2+\" ms for training\")\n",
        "plt.plot( iteration, cost )\n",
        "plt.show()\n",
        "\n",
        "def test():\n",
        "  count = 0\n",
        "  for i in range(4):\n",
        "    z = x[i][0]*w1 + x[i][1]*w2 + b\n",
        "    a = sigmoid(z)\n",
        "    if a < 0.5 :\n",
        "      out = 0\n",
        "    else:\n",
        "      out = 1\n",
        "    if out == y[i]:\n",
        "      count = count + 1\n",
        "  accuracy = (count/4)*100\n",
        "  return accuracy\n",
        "\n",
        "print( \"Accuracy is \" + str(test()) )\n",
        "  \n"
      ],
      "execution_count": 9,
      "outputs": [
        {
          "output_type": "stream",
          "text": [
            "For loop Version take 1219.4383144378662 ms for training\n"
          ],
          "name": "stdout"
        },
        {
          "output_type": "display_data",
          "data": {
            "image/png": "[encoded data removed]",
            "text/plain": [
              "<Figure size 432x288 with 1 Axes>"
            ]
          },
          "metadata": {
            "tags": [],
            "needs_background": "light"
          }
        },
        {
          "output_type": "stream",
          "text": [
            "Accuracy is 100.0\n"
          ],
          "name": "stdout"
        }
      ]
    }
  ]
}