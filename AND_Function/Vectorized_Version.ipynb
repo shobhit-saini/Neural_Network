{
  "nbformat": 4,
  "nbformat_minor": 0,
  "metadata": {
    "colab": {
      "name": "Vectorized_Version.ipynb",
      "provenance": [],
      "authorship_tag": "ABX9TyMH9UvNZp7P0Nb1RcL5SPA2",
      "include_colab_link": true
    },
    "kernelspec": {
      "name": "python3",
      "display_name": "Python 3"
    }
  },
  "cells": [
    {
      "cell_type": "markdown",
      "metadata": {
        "id": "view-in-github",
        "colab_type": "text"
      },
      "source": [
        "<a href=\"https://colab.research.google.com/github/shobhit-saini/Neural_Network/blob/master/AND_Function/Vectorized_Version.ipynb\" target=\"_parent\"><img src=\"https://colab.research.google.com/assets/colab-badge.svg\" alt=\"Open In Colab\"/></a>"
      ]
    },
    {
      "cell_type": "code",
      "metadata": {
        "id": "__RGVu0LP_pw",
        "colab_type": "code",
        "colab": {
          "base_uri": "https://localhost:8080/",
          "height": 299
        },
        "outputId": "6e43fde1-4af0-41d6-ad46-67ea47082e0d"
      },
      "source": [
        "import numpy as np\n",
        "import time\n",
        "import matplotlib.pyplot as plt\n",
        "import random\n",
        "\n",
        "# Training input and output\n",
        "x = np.array([[0,0],[0,1],[1,0],[1,1]]) #Dim:(4,2)\n",
        "x = x.T #Dim:(2,4)\n",
        "y = np.array([[0],[0],[0],[1]]) #Dim:(4,1)\n",
        "y = y.T #Dim:(1,4)\n",
        "\n",
        "def sigmoid(x):\n",
        "  return 1/(1+np.exp(-x))\n",
        "random.seed(30)\n",
        "w = np.random.uniform( size = ( 1,2 ) ) #Dim:(1,2)\n",
        "b = random.randint(0,1)\n",
        "learning_rate = 0.1\n",
        "cost = []\n",
        "iteration = []\n",
        "tic = time.time()\n",
        "for i in range(10000):\n",
        "  z = np.dot(w,x) + b #Dim:(1,4)\n",
        "  a = sigmoid(z) #Dim:(1,4)\n",
        "  loss = 0\n",
        "  for j in range(4):\n",
        "    loss += -(y[0][j]*np.log(a[0][j]) + (1-y[0][j])*np.log(1-a[0][j]))\n",
        "  cost.append(loss)\n",
        "  iteration.append(i)\n",
        "  dz = (a - y) #Dim:(1,4)\n",
        "  dw = np.dot(dz,x.T)/4 #Dim:(1,2)\n",
        "  db = np.sum(dz)/4 #Dim:(1,4)\n",
        "  w = w - learning_rate*dw #Dim:(1,2)\n",
        "  b = b - learning_rate*db #Dim:(1,4)\n",
        "\n",
        "toc = time.time()\n",
        "t2 = str(1000*(toc-tic))\n",
        "print(\"Vectorized Version take \"+ t2+\" ms for training\")\n",
        "\n",
        "plt.plot(iteration, cost)\n",
        "plt.show()\n",
        "out = np.zeros((1,4))\n",
        "def test():\n",
        "  count = 0\n",
        "  z = np.dot(w,x) + b #Dim:(1,4)\n",
        "  a = sigmoid(z) #Dim:(1,4)\n",
        "  for i in range(4):\n",
        "    if a[0][i] < 0.5 :\n",
        "      out[0][i] = 0\n",
        "    else:\n",
        "      out[0][i] = 1\n",
        "    if out[0][i] == y[0][i]:\n",
        "      count += 1\n",
        "  accuracy = (count/4)*100\n",
        "  return accuracy\n",
        "\n",
        "print( \"Accuracy is \" + str(test()) )\n",
        "\n",
        "\n"
      ],
      "execution_count": 45,
      "outputs": [
        {
          "output_type": "stream",
          "text": [
            "Vectorized Version take 702.397346496582 ms for training\n"
          ],
          "name": "stdout"
        },
        {
          "output_type": "display_data",
          "data": {
            "image/png": "[encoded data removed]",
            "text/plain": [
              "<Figure size 432x288 with 1 Axes>"
            ]
          },
          "metadata": {
            "tags": [],
            "needs_background": "light"
          }
        },
        {
          "output_type": "stream",
          "text": [
            "Accuracy is 100.0\n"
          ],
          "name": "stdout"
        }
      ]
    }
  ]
}